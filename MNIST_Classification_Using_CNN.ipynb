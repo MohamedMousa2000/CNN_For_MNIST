{
  "nbformat": 4,
  "nbformat_minor": 0,
  "metadata": {
    "colab": {
      "provenance": [],
      "authorship_tag": "ABX9TyMSvKjKl6ZpfGaNEoBYvnqT",
      "include_colab_link": true
    },
    "kernelspec": {
      "name": "python3",
      "display_name": "Python 3"
    },
    "language_info": {
      "name": "python"
    },
    "accelerator": "GPU",
    "gpuClass": "standard"
  },
  "cells": [
    {
      "cell_type": "markdown",
      "metadata": {
        "id": "view-in-github",
        "colab_type": "text"
      },
      "source": [
        "<a href=\"https://colab.research.google.com/github/MohamedMousa2000/CNN_For_MNIST/blob/main/MNIST_Classification_Using_CNN.ipynb\" target=\"_parent\"><img src=\"https://colab.research.google.com/assets/colab-badge.svg\" alt=\"Open In Colab\"/></a>"
      ]
    },
    {
      "cell_type": "code",
      "execution_count": null,
      "metadata": {
        "colab": {
          "base_uri": "https://localhost:8080/"
        },
        "id": "dDevtvYfydOm",
        "outputId": "e8848dc4-39b2-4ef0-f00b-348906710dcf"
      },
      "outputs": [
        {
          "output_type": "stream",
          "name": "stdout",
          "text": [
            "2.9.2\n"
          ]
        }
      ],
      "source": [
        "import numpy as np\n",
        "import matplotlib.pyplot as plt\n",
        "import tensorflow as tf\n",
        "import cv2\n",
        "import albumentations as albu\n",
        "from skimage.transform import resize\n",
        "from tensorflow import keras as ks\n",
        "from tensorflow.keras.layers import BatchNormalization\n",
        "from keras.preprocessing.image import ImageDataGenerator\n",
        "from keras.optimizers import Adam, SGD\n",
        "from keras.callbacks import Callback, EarlyStopping, ReduceLROnPlateau\n",
        "from keras.optimizers import Adam, SGD\n",
        "from keras.callbacks import Callback, EarlyStopping, ReduceLROnPlateau\n",
        "print(tf.__version__)"
      ]
    },
    {
      "cell_type": "code",
      "source": [
        "device_name = tf.test.gpu_device_name()\n",
        "if device_name != '/device:GPU:0':\n",
        "  raise SystemError('GPU device not found')\n",
        "print('Found GPU at: {}'.format(device_name))"
      ],
      "metadata": {
        "colab": {
          "base_uri": "https://localhost:8080/"
        },
        "id": "M7hkkR_Eyhbn",
        "outputId": "34d9443b-5d72-4e54-9499-0525506177cb"
      },
      "execution_count": null,
      "outputs": [
        {
          "output_type": "stream",
          "name": "stdout",
          "text": [
            "Found GPU at: /device:GPU:0\n"
          ]
        }
      ]
    },
    {
      "cell_type": "code",
      "source": [
        "import timeit\n",
        "\n",
        "device_name = tf.test.gpu_device_name()\n",
        "if device_name != '/device:GPU:0':\n",
        "  print(\n",
        "      '\\n\\nThis error most likely means that this notebook is not '\n",
        "      'configured to use a GPU.  Change this in Notebook Settings via the '\n",
        "      'command palette (cmd/ctrl-shift-P) or the Edit menu.\\n\\n')\n",
        "  raise SystemError('GPU device not found')\n",
        "\n",
        "def cpu():\n",
        "  with tf.device('/cpu:0'):\n",
        "    random_image_cpu = tf.random.normal((100, 100, 100, 3))\n",
        "    net_cpu = tf.keras.layers.Conv2D(32, 7)(random_image_cpu)\n",
        "    return tf.math.reduce_sum(net_cpu)\n",
        "\n",
        "def gpu():\n",
        "  with tf.device('/device:GPU:0'):\n",
        "    random_image_gpu = tf.random.normal((100, 100, 100, 3))\n",
        "    net_gpu = tf.keras.layers.Conv2D(32, 7)(random_image_gpu)\n",
        "    return tf.math.reduce_sum(net_gpu)\n",
        "  \n",
        "# We run each op once to warm up; see: https://stackoverflow.com/a/45067900\n",
        "cpu()\n",
        "gpu()\n",
        "\n",
        "# Run the op several times.\n",
        "print('Time (s) to convolve 32x7x7x3 filter over random 100x100x100x3 images '\n",
        "      '(batch x height x width x channel). Sum of ten runs.')\n",
        "print('CPU (s):')\n",
        "cpu_time = timeit.timeit('cpu()', number=10, setup=\"from __main__ import cpu\")\n",
        "print(cpu_time)\n",
        "print('GPU (s):')\n",
        "gpu_time = timeit.timeit('gpu()', number=10, setup=\"from __main__ import gpu\")\n",
        "print(gpu_time)\n",
        "print('GPU speedup over CPU: {}x'.format(int(cpu_time/gpu_time)))"
      ],
      "metadata": {
        "colab": {
          "base_uri": "https://localhost:8080/"
        },
        "id": "jJyffKYZyirG",
        "outputId": "161b0ef8-970c-471b-b8e7-0afdc5599205"
      },
      "execution_count": null,
      "outputs": [
        {
          "output_type": "stream",
          "name": "stdout",
          "text": [
            "Time (s) to convolve 32x7x7x3 filter over random 100x100x100x3 images (batch x height x width x channel). Sum of ten runs.\n",
            "CPU (s):\n",
            "3.503039010000009\n",
            "GPU (s):\n",
            "0.04005127799999286\n",
            "GPU speedup over CPU: 87x\n"
          ]
        }
      ]
    },
    {
      "cell_type": "code",
      "source": [
        "batch_size = 50\n",
        "img_width, img_height, img_num_channels = 28, 28, 1\n",
        "loss_function = 'sparse_categorical_crossentropy'\n",
        "no_classes = 10\n",
        "no_epochs = 20\n",
        "optimizer = 'adam'\n",
        "validation_split = 0.2\n",
        "verbosity = 1"
      ],
      "metadata": {
        "id": "eAHP5jYF1a2R"
      },
      "execution_count": null,
      "outputs": []
    },
    {
      "cell_type": "code",
      "source": [
        "MNIST = ks.datasets.mnist\n",
        "(X_train, Y_train), (X_test, Y_test) = MNIST.load_data()"
      ],
      "metadata": {
        "id": "b-i6fIBF1c1E"
      },
      "execution_count": null,
      "outputs": []
    },
    {
      "cell_type": "code",
      "source": [
        "print(X_train.shape)\n",
        "print(Y_train.shape)"
      ],
      "metadata": {
        "colab": {
          "base_uri": "https://localhost:8080/"
        },
        "id": "LV7CAcWi1fgq",
        "outputId": "e6ce4613-4d25-409c-eee5-d5a7d9e91cc9"
      },
      "execution_count": null,
      "outputs": [
        {
          "output_type": "stream",
          "name": "stdout",
          "text": [
            "(60000, 28, 28)\n",
            "(60000,)\n"
          ]
        }
      ]
    },
    {
      "cell_type": "code",
      "source": [
        "plt.imshow(X_train[59999])"
      ],
      "metadata": {
        "colab": {
          "base_uri": "https://localhost:8080/",
          "height": 282
        },
        "id": "s0awiTr81hPT",
        "outputId": "b2aa50ee-4499-44ee-b95e-b9aa829ac6e3"
      },
      "execution_count": null,
      "outputs": [
        {
          "output_type": "execute_result",
          "data": {
            "text/plain": [
              "<matplotlib.image.AxesImage at 0x7f24a3ec8850>"
            ]
          },
          "metadata": {},
          "execution_count": 20
        },
        {
          "output_type": "display_data",
          "data": {
            "text/plain": [
              "<Figure size 432x288 with 1 Axes>"
            ],
            "image/png": "[encoded data removed]"
          },
          "metadata": {
            "needs_background": "light"
          }
        }
      ]
    },
    {
      "cell_type": "code",
      "source": [
        "X_train = X_train/255.0\n",
        "X_test = X_test/255.0\n",
        "#Y_train = tf.keras.utils.to_categorical(Y_train, no_classes)\n",
        "#Y_test = tf.keras.utils.to_categorical(Y_test, no_classes)\n",
        "Y_train.shape"
      ],
      "metadata": {
        "colab": {
          "base_uri": "https://localhost:8080/"
        },
        "id": "vpBAfNRO1kX4",
        "outputId": "a1177ab3-9536-4139-dda9-d1e65a7f20b5"
      },
      "execution_count": null,
      "outputs": [
        {
          "output_type": "execute_result",
          "data": {
            "text/plain": [
              "(60000,)"
            ]
          },
          "metadata": {},
          "execution_count": 65
        }
      ]
    },
    {
      "cell_type": "code",
      "source": [
        "Y_train.shape"
      ],
      "metadata": {
        "colab": {
          "base_uri": "https://localhost:8080/"
        },
        "id": "KkHRz9mE38U6",
        "outputId": "8309051c-9597-4028-e469-395e51d9d719"
      },
      "execution_count": null,
      "outputs": [
        {
          "output_type": "execute_result",
          "data": {
            "text/plain": [
              "(60000,)"
            ]
          },
          "metadata": {},
          "execution_count": 66
        }
      ]
    },
    {
      "cell_type": "code",
      "source": [
        "CNN_Model = ks.models.Sequential()\n",
        "CNN_Model.add(ks.layers.Conv2D(16,(3,3),activation='relu',input_shape=(28,28,1),data_format=\"channels_last\",padding='same',name='First_Layer_CONV'))\n",
        "CNN_Model.add(ks.layers.Conv2D(16,(3,3),activation='relu',name='Second_Layer_CONV'))"
      ],
      "metadata": {
        "id": "pCelsldP2Ev-"
      },
      "execution_count": null,
      "outputs": []
    },
    {
      "cell_type": "code",
      "source": [
        "CNN_Model.add(ks.layers.MaxPool2D((2,2),name='1st_Max_Pooling'))\n",
        "#CNN_Model.add(ks.layers.Dropout(0.1))"
      ],
      "metadata": {
        "id": "eq8W0uZr284R"
      },
      "execution_count": null,
      "outputs": []
    },
    {
      "cell_type": "code",
      "source": [
        "CNN_Model.add(ks.layers.Conv2D(32,(3,3),activation='relu',padding='same',name='Third_Layer_CONV'))\n",
        "CNN_Model.add(ks.layers.Conv2D(32,(3,3),activation='relu',name='Forth_Layer_CONV'))"
      ],
      "metadata": {
        "id": "EDkplvn53ATE"
      },
      "execution_count": null,
      "outputs": []
    },
    {
      "cell_type": "code",
      "source": [
        "CNN_Model.add(ks.layers.MaxPool2D((2,2),name='2nd_Max_Pooling'))\n",
        "#CNN_Model.add(ks.layers.Dropout(0.25))"
      ],
      "metadata": {
        "id": "kb3neLtV3FnJ"
      },
      "execution_count": null,
      "outputs": []
    },
    {
      "cell_type": "code",
      "source": [
        "CNN_Model.add(ks.layers.Conv2D(64,(3,3),activation='relu',padding='same',name='Fifth_Layer_CONV'))\n",
        "CNN_Model.add(ks.layers.Conv2D(64,(3,3),activation='relu',padding='same',name='Sixth_Layer_CONV'))"
      ],
      "metadata": {
        "id": "UypIJWSX3HlX"
      },
      "execution_count": null,
      "outputs": []
    },
    {
      "cell_type": "code",
      "source": [
        "CNN_Model.add(ks.layers.Flatten(name='FC'))\n",
        "CNN_Model.add(ks.layers.Dense(512,activation='relu',name='First_Hidden_Layer'))\n",
        "#CNN_Model.add(ks.layers.Dropout(0.5))\n",
        "CNN_Model.add(ks.layers.BatchNormalization())\n",
        "CNN_Model.add(ks.layers.Dense(256,activation='relu',name='Second_Hidden_Layer'))\n",
        "CNN_Model.add(ks.layers.BatchNormalization())\n",
        "CNN_Model.add(ks.layers.Dense(128,activation='relu',name='Third_Hidden_Layer'))\n",
        "CNN_Model.add(ks.layers.Dense(100,activation='softmax',name='Output_Layer'))"
      ],
      "metadata": {
        "id": "PaUIjFtp3I0R"
      },
      "execution_count": null,
      "outputs": []
    },
    {
      "cell_type": "code",
      "source": [
        "CNN_Model.summary()"
      ],
      "metadata": {
        "colab": {
          "base_uri": "https://localhost:8080/"
        },
        "id": "oP7T1QTb3QVd",
        "outputId": "a06e4397-2486-4e55-dab9-ffb317127109"
      },
      "execution_count": null,
      "outputs": [
        {
          "output_type": "stream",
          "name": "stdout",
          "text": [
            "Model: \"sequential_4\"\n",
            "_________________________________________________________________\n",
            " Layer (type)                Output Shape              Param #   \n",
            "=================================================================\n",
            " First_Layer_CONV (Conv2D)   (None, 28, 28, 16)        160       \n",
            "                                                                 \n",
            " Second_Layer_CONV (Conv2D)  (None, 26, 26, 16)        2320      \n",
            "                                                                 \n",
            " 1st_Max_Pooling (MaxPooling  (None, 13, 13, 16)       0         \n",
            " 2D)                                                             \n",
            "                                                                 \n",
            " Third_Layer_CONV (Conv2D)   (None, 13, 13, 32)        4640      \n",
            "                                                                 \n",
            " Forth_Layer_CONV (Conv2D)   (None, 11, 11, 32)        9248      \n",
            "                                                                 \n",
            " 2nd_Max_Pooling (MaxPooling  (None, 5, 5, 32)         0         \n",
            " 2D)                                                             \n",
            "                                                                 \n",
            " Fifth_Layer_CONV (Conv2D)   (None, 5, 5, 64)          18496     \n",
            "                                                                 \n",
            " Sixth_Layer_CONV (Conv2D)   (None, 5, 5, 64)          36928     \n",
            "                                                                 \n",
            " FC (Flatten)                (None, 1600)              0         \n",
            "                                                                 \n",
            " First_Hidden_Layer (Dense)  (None, 512)               819712    \n",
            "                                                                 \n",
            " batch_normalization_8 (Batc  (None, 512)              2048      \n",
            " hNormalization)                                                 \n",
            "                                                                 \n",
            " Second_Hidden_Layer (Dense)  (None, 256)              131328    \n",
            "                                                                 \n",
            " batch_normalization_9 (Batc  (None, 256)              1024      \n",
            " hNormalization)                                                 \n",
            "                                                                 \n",
            " Third_Hidden_Layer (Dense)  (None, 128)               32896     \n",
            "                                                                 \n",
            " Output_Layer (Dense)        (None, 100)               12900     \n",
            "                                                                 \n",
            "=================================================================\n",
            "Total params: 1,071,700\n",
            "Trainable params: 1,070,164\n",
            "Non-trainable params: 1,536\n",
            "_________________________________________________________________\n"
          ]
        }
      ]
    },
    {
      "cell_type": "code",
      "source": [
        "#early stopping to monitor the validation loss and avoid overfitting\n",
        "early_stop = EarlyStopping(monitor='val_loss', mode='min', verbose=1, patience=10, restore_best_weights=True)\n",
        "\n",
        "#reducing learning rate on plateau\n",
        "rlrop = ReduceLROnPlateau(monitor='val_loss', mode='min', patience= 5, factor= 0.5, min_lr= 1e-6, verbose=1)\n"
      ],
      "metadata": {
        "id": "L-6-fYqV3ScN"
      },
      "execution_count": null,
      "outputs": []
    },
    {
      "cell_type": "code",
      "source": [
        "CNN_Model.compile(optimizer=optimizer,loss='sparse_categorical_crossentropy',metrics=['accuracy'])"
      ],
      "metadata": {
        "id": "qB-by_043xYY"
      },
      "execution_count": null,
      "outputs": []
    },
    {
      "cell_type": "code",
      "source": [
        "History_Of_Training = CNN_Model.fit(X_train,Y_train,epochs=no_epochs,batch_size=batch_size,verbose=verbosity,validation_split=validation_split,callbacks = [early_stop, rlrop])"
      ],
      "metadata": {
        "colab": {
          "base_uri": "https://localhost:8080/"
        },
        "id": "1jLj0nNO3ygl",
        "outputId": "197b8945-f84a-4876-fb45-df3a2b1242e7"
      },
      "execution_count": null,
      "outputs": [
        {
          "output_type": "stream",
          "name": "stdout",
          "text": [
            "Epoch 1/20\n",
            "960/960 [==============================] - 7s 6ms/step - loss: 0.1439 - accuracy: 0.9592 - val_loss: 0.0645 - val_accuracy: 0.9815 - lr: 0.0010\n",
            "Epoch 2/20\n",
            "960/960 [==============================] - 6s 6ms/step - loss: 0.0632 - accuracy: 0.9810 - val_loss: 0.0842 - val_accuracy: 0.9736 - lr: 0.0010\n",
            "Epoch 3/20\n",
            "960/960 [==============================] - 7s 7ms/step - loss: 0.0509 - accuracy: 0.9836 - val_loss: 0.0990 - val_accuracy: 0.9728 - lr: 0.0010\n",
            "Epoch 4/20\n",
            "960/960 [==============================] - 7s 7ms/step - loss: 0.0412 - accuracy: 0.9878 - val_loss: 0.1270 - val_accuracy: 0.9613 - lr: 0.0010\n",
            "Epoch 5/20\n",
            "960/960 [==============================] - 6s 6ms/step - loss: 0.0380 - accuracy: 0.9884 - val_loss: 0.0460 - val_accuracy: 0.9874 - lr: 0.0010\n",
            "Epoch 6/20\n",
            "960/960 [==============================] - 6s 6ms/step - loss: 0.0308 - accuracy: 0.9900 - val_loss: 0.0472 - val_accuracy: 0.9876 - lr: 0.0010\n",
            "Epoch 7/20\n",
            "960/960 [==============================] - 6s 6ms/step - loss: 0.0304 - accuracy: 0.9907 - val_loss: 0.0423 - val_accuracy: 0.9886 - lr: 0.0010\n",
            "Epoch 8/20\n",
            "960/960 [==============================] - 6s 6ms/step - loss: 0.0239 - accuracy: 0.9926 - val_loss: 0.0399 - val_accuracy: 0.9880 - lr: 0.0010\n",
            "Epoch 9/20\n",
            "960/960 [==============================] - 6s 6ms/step - loss: 0.0255 - accuracy: 0.9921 - val_loss: 0.0576 - val_accuracy: 0.9837 - lr: 0.0010\n",
            "Epoch 10/20\n",
            "960/960 [==============================] - 6s 6ms/step - loss: 0.0208 - accuracy: 0.9934 - val_loss: 0.0390 - val_accuracy: 0.9895 - lr: 0.0010\n",
            "Epoch 11/20\n",
            "960/960 [==============================] - 6s 6ms/step - loss: 0.0206 - accuracy: 0.9934 - val_loss: 0.0368 - val_accuracy: 0.9908 - lr: 0.0010\n",
            "Epoch 12/20\n",
            "960/960 [==============================] - 6s 6ms/step - loss: 0.0191 - accuracy: 0.9942 - val_loss: 0.0402 - val_accuracy: 0.9893 - lr: 0.0010\n",
            "Epoch 13/20\n",
            "960/960 [==============================] - 6s 7ms/step - loss: 0.0157 - accuracy: 0.9951 - val_loss: 0.0325 - val_accuracy: 0.9921 - lr: 0.0010\n",
            "Epoch 14/20\n",
            "960/960 [==============================] - 7s 8ms/step - loss: 0.0171 - accuracy: 0.9949 - val_loss: 0.3020 - val_accuracy: 0.9336 - lr: 0.0010\n",
            "Epoch 15/20\n",
            "960/960 [==============================] - 6s 7ms/step - loss: 0.0138 - accuracy: 0.9959 - val_loss: 0.0529 - val_accuracy: 0.9874 - lr: 0.0010\n",
            "Epoch 16/20\n",
            "960/960 [==============================] - 7s 7ms/step - loss: 0.0141 - accuracy: 0.9956 - val_loss: 0.0433 - val_accuracy: 0.9903 - lr: 0.0010\n",
            "Epoch 17/20\n",
            "960/960 [==============================] - 6s 6ms/step - loss: 0.0123 - accuracy: 0.9959 - val_loss: 0.0595 - val_accuracy: 0.9842 - lr: 0.0010\n",
            "Epoch 18/20\n",
            "957/960 [============================>.] - ETA: 0s - loss: 0.0115 - accuracy: 0.9966\n",
            "Epoch 18: ReduceLROnPlateau reducing learning rate to 0.0005000000237487257.\n",
            "960/960 [==============================] - 6s 6ms/step - loss: 0.0114 - accuracy: 0.9966 - val_loss: 0.0390 - val_accuracy: 0.9897 - lr: 0.0010\n",
            "Epoch 19/20\n",
            "960/960 [==============================] - 6s 6ms/step - loss: 0.0036 - accuracy: 0.9987 - val_loss: 0.0334 - val_accuracy: 0.9923 - lr: 5.0000e-04\n",
            "Epoch 20/20\n",
            "960/960 [==============================] - 6s 6ms/step - loss: 0.0034 - accuracy: 0.9987 - val_loss: 0.0338 - val_accuracy: 0.9932 - lr: 5.0000e-04\n"
          ]
        }
      ]
    },
    {
      "cell_type": "code",
      "source": [
        "Training_Loss, Training_Accuracy = CNN_Model.evaluate(X_train,Y_train)\n",
        "print(f\"Accuracy = {round(float(Training_Accuracy),2)}\")"
      ],
      "metadata": {
        "colab": {
          "base_uri": "https://localhost:8080/"
        },
        "id": "cPuhgwmH3zz2",
        "outputId": "f5d03456-0d86-4f54-9493-87a63d78a680"
      },
      "execution_count": null,
      "outputs": [
        {
          "output_type": "stream",
          "name": "stdout",
          "text": [
            "1875/1875 [==============================] - 7s 3ms/step - loss: 0.0081 - accuracy: 0.9983\n",
            "Accuracy = 1.0\n"
          ]
        }
      ]
    },
    {
      "cell_type": "code",
      "source": [
        "Test_Loss, Test_Accuracy = CNN_Model.evaluate(X_test,Y_test)\n",
        "print(f\"Accuracy = {round(float(Test_Accuracy),2)}\")"
      ],
      "metadata": {
        "colab": {
          "base_uri": "https://localhost:8080/"
        },
        "id": "tOxGu4ix6tWi",
        "outputId": "f1e13ed8-ded6-4ecf-9ca3-57bae01355f9"
      },
      "execution_count": null,
      "outputs": [
        {
          "output_type": "stream",
          "name": "stdout",
          "text": [
            "313/313 [==============================] - 1s 4ms/step - loss: 0.0269 - accuracy: 0.9939\n",
            "Accuracy = 0.99\n"
          ]
        }
      ]
    },
    {
      "cell_type": "code",
      "source": [
        "score = CNN_Model.evaluate(X_test, Y_test, verbose=0)\n",
        "print(f'Test loss: {score[0]} / Test accuracy: {score[1]}')\n",
        "\n",
        "# Visualize history\n",
        "# Plot history: Loss\n",
        "plt.plot(History_Of_Training.history['val_loss'])\n",
        "plt.plot(History_Of_Training.history['loss'])\n",
        "plt.title('Train Vs Validation loss history')\n",
        "plt.ylabel('Loss value')\n",
        "plt.xlabel('No. epoch')\n",
        "plt.show()\n",
        "\n",
        "# Plot history: Accuracy\n",
        "plt.plot(History_Of_Training.history['val_accuracy'])\n",
        "plt.plot(History_Of_Training.history['accuracy'])\n",
        "plt.title('Train Vs Validation accuracy history')\n",
        "plt.ylabel('Accuracy value (%)')\n",
        "plt.xlabel('No. epoch')\n",
        "plt.show()"
      ],
      "metadata": {
        "colab": {
          "base_uri": "https://localhost:8080/",
          "height": 590
        },
        "id": "nMfrHxvW6tS9",
        "outputId": "200cf262-c553-497e-a75f-89e52ca3af3e"
      },
      "execution_count": null,
      "outputs": [
        {
          "output_type": "stream",
          "name": "stdout",
          "text": [
            "Test loss: 0.02685130387544632 / Test accuracy: 0.9939000010490417\n"
          ]
        },
        {
          "output_type": "display_data",
          "data": {
            "text/plain": [
              "<Figure size 432x288 with 1 Axes>"
            ],
            "image/png": "[encoded data removed]"
          },
          "metadata": {
            "needs_background": "light"
          }
        },
        {
          "output_type": "display_data",
          "data": {
            "text/plain": [
              "<Figure size 432x288 with 1 Axes>"
            ],
            "image/png": "[encoded data removed]"
          },
          "metadata": {
            "needs_background": "light"
          }
        }
      ]
    },
    {
      "cell_type": "code",
      "source": [],
      "metadata": {
        "id": "w0GYyPg967AQ"
      },
      "execution_count": null,
      "outputs": []
    }
  ]
}